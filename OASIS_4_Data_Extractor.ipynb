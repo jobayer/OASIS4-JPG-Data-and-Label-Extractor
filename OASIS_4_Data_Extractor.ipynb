{
  "cells": [
    {
      "cell_type": "code",
      "execution_count": null,
      "metadata": {
        "id": "L2hCKJ3JNBQH"
      },
      "outputs": [],
      "source": [
        "import os\n",
        "import shutil\n",
        "import glob\n",
        "from tqdm import tqdm\n",
        "\n",
        "import nibabel as nib\n",
        "import numpy as np\n",
        "import pandas as pd\n",
        "\n",
        "import matplotlib.pyplot as plt"
      ]
    },
    {
      "cell_type": "code",
      "execution_count": null,
      "metadata": {
        "id": "mBTGqmCeMx6B"
      },
      "outputs": [],
      "source": [
        "# @title Provide the root directory of the dataset. { display-mode: \"form\", run: \"auto\" }\n",
        "\n",
        "ROOT_DIR = \"DATASET_ROOT_DIR\" # @param {type:\"string\"}\n",
        "DATA_DIR_NAME = \"0AS4_data_files\"\n",
        "DATA_DIR = os.path.join(ROOT_DIR, f\"{DATA_DIR_NAME}/OASIS4_data_files\")\n",
        "CDR_FILE = os.path.join(DATA_DIR, \"CDR/csv/OASIS4_data_CDR.csv\")\n",
        "CDR_C_OF_INTEREST = [\"oasis_id\", \"visit_days\", \"cdr\"]\n",
        "\n",
        "CONVERTED_IMG_DIR = \"DESTINATION_OF_THE_JPEG_IMGS\" # @param {type:\"string\"}\n",
        "CLEAR_DESTINATION_DIR = True # @param {type:\"boolean\"}\n",
        "\n",
        "SUBJECT_EXCLUDE_TERM = [\"BIDS\", \"Freesurfer\", \"dw\"]\n",
        "\n",
        "NIFTI_DIR_NAME = \"NIFTI\"\n",
        "\n",
        "img_cmap = \"gray\" # @param [\"gray\", \"cividis\", \"viridis\", \"plasma\", \"inferno\", \"magma\"] {allow-input: true}"
      ]
    },
    {
      "cell_type": "code",
      "execution_count": null,
      "metadata": {
        "colab": {
          "base_uri": "https://localhost:8080/"
        },
        "id": "FEFRNxqlPeEK",
        "outputId": "7c258e63-4b88-463f-9934-3b705b4747d7"
      },
      "outputs": [],
      "source": [
        "def list_subjects(dir, exclude=[]):\n",
        "    return [os.path.basename(f) for f in tqdm(glob.glob(os.path.join(dir, '*')), \"Loading subjects\")\n",
        "            if os.path.isdir(f) and os.path.basename(f) not in exclude]\n",
        "\n",
        "subjects = list_subjects(ROOT_DIR, [DATA_DIR_NAME])"
      ]
    },
    {
      "cell_type": "code",
      "execution_count": null,
      "metadata": {
        "colab": {
          "base_uri": "https://localhost:8080/"
        },
        "id": "blqC_vWqfXvz",
        "outputId": "c40a4f81-19bb-432a-d2aa-e5dc21e023dd"
      },
      "outputs": [],
      "source": [
        "def list_dated_subjects(root_dir, subjects):\n",
        "    dated_subjects = {}\n",
        "\n",
        "    for subject in tqdm(subjects, \"Looking into subbjects\"):\n",
        "        subject_dir = os.path.join(root_dir, subject)\n",
        "        dated_subjects_dir = glob.glob(os.path.join(subject_dir, '*'))\n",
        "\n",
        "        dated_subs_structured = []\n",
        "        for dated_subject_dir in tqdm(dated_subjects_dir, \"Getting dated subjects\"):\n",
        "            dated_subject_base_name = os.path.basename(dated_subject_dir)\n",
        "            dated_subject_date = dated_subject_base_name[-4:] # last 4 char\n",
        "            dated_subs_structured.append({\n",
        "                \"days\": int(dated_subject_date),\n",
        "                \"dir\": dated_subject_base_name\n",
        "            })\n",
        "\n",
        "        dated_subjects[subject] = dated_subs_structured\n",
        "\n",
        "    return dated_subjects\n",
        "\n",
        "dated_subjects = list_dated_subjects(ROOT_DIR, subjects)"
      ]
    },
    {
      "cell_type": "code",
      "execution_count": null,
      "metadata": {
        "colab": {
          "base_uri": "https://localhost:8080/"
        },
        "id": "OtYw-NiGxEbK",
        "outputId": "a3a8a75d-b41a-44f9-c5fa-8869192c23a0"
      },
      "outputs": [],
      "source": [
        "def get_sequence_dir(dir, exclude=[]):\n",
        "    return [os.path.basename(f) for f in tqdm(glob.glob(os.path.join(dir, '*')), \"Loading subjects\")\n",
        "            if os.path.isdir(f) and all(ex.lower() not in os.path.basename(f).lower() for ex in exclude)]\n",
        "\n",
        "dated_subjects_with_sequence = {}\n",
        "\n",
        "for k, v in dated_subjects.items():\n",
        "    for item in v:\n",
        "        scan_dir = os.path.join(ROOT_DIR, k, item[\"dir\"])\n",
        "        sequence_dir = get_sequence_dir(scan_dir, SUBJECT_EXCLUDE_TERM)\n",
        "        item[\"sequence\"] = sequence_dir\n",
        "\n",
        "    dated_subjects_with_sequence[k] = v"
      ]
    },
    {
      "cell_type": "code",
      "execution_count": null,
      "metadata": {
        "id": "SE7esKxs8keo"
      },
      "outputs": [],
      "source": [
        "subjects_with_nifti_files = {}\n",
        "\n",
        "for k, v in dated_subjects_with_sequence.items():\n",
        "    for item in v:\n",
        "        nifti_list = []\n",
        "        for sequence in item[\"sequence\"]:\n",
        "            sequence_dir = os.path.join(ROOT_DIR, k, item[\"dir\"], sequence)\n",
        "            nifti_dir = os.path.join(sequence_dir, NIFTI_DIR_NAME)\n",
        "            nifti_files = glob.glob(os.path.join(nifti_dir, '*.nii.gz'))\n",
        "            assert len(nifti_files) > 0, \"No NIFTI file found\"\n",
        "            nifti_files_names = [os.path.basename(f) for f in nifti_files]\n",
        "            nifti_list.append({sequence: nifti_files_names})\n",
        "        item[\"nifti_files\"] = nifti_list\n",
        "    subjects_with_nifti_files[k] = v"
      ]
    },
    {
      "cell_type": "code",
      "execution_count": null,
      "metadata": {
        "id": "mFFg6dlaLplm"
      },
      "outputs": [],
      "source": [
        "def get_optimal_cdr(df_, subject_id, visit_days):\n",
        "    df__ = df_[df_[CDR_C_OF_INTEREST[0]] == subject_id]\n",
        "    if df__.empty:\n",
        "        return -1\n",
        "    df__['diff'] = abs(df__[CDR_C_OF_INTEREST[1]] - visit_days)\n",
        "    row_idx_ = df__['diff'].idxmin()\n",
        "    cdr_ = df__.loc[row_idx_, CDR_C_OF_INTEREST[2]]\n",
        "    cdr_ = cdr_.astype(np.float32)\n",
        "    return cdr_"
      ]
    },
    {
      "cell_type": "code",
      "execution_count": null,
      "metadata": {
        "colab": {
          "base_uri": "https://localhost:8080/",
          "height": 206
        },
        "id": "RpkMK0OCK88_",
        "outputId": "7ef7a221-e269-4275-b583-d077db4f0bf6"
      },
      "outputs": [],
      "source": [
        "cdr_df = pd.read_csv(CDR_FILE, usecols=CDR_C_OF_INTEREST)\n",
        "cdr_df.head()"
      ]
    },
    {
      "cell_type": "code",
      "execution_count": null,
      "metadata": {
        "id": "ky1ff_v_jzEq"
      },
      "outputs": [],
      "source": [
        "missing_values_df = cdr_df[cdr_df.isna().any(axis=1)]\n",
        "subjects_with_missing_values = missing_values_df[\"oasis_id\"].values\n",
        "\n",
        "for item in subjects_with_missing_values:\n",
        "    if item in subjects_with_nifti_files:\n",
        "        del subjects_with_nifti_files[item]\n",
        "\n",
        "cdr_df = cdr_df.dropna()"
      ]
    },
    {
      "cell_type": "code",
      "execution_count": null,
      "metadata": {
        "colab": {
          "base_uri": "https://localhost:8080/"
        },
        "id": "8gY7FvuoLBUD",
        "outputId": "d877aff9-fc04-4d2f-8790-7b0b30596153"
      },
      "outputs": [],
      "source": [
        "subjects_with_cdr = {}\n",
        "\n",
        "missing_val_subjs = []\n",
        "\n",
        "for k, v in subjects_with_nifti_files.items():\n",
        "    for item in v:\n",
        "        opt_cdr = get_optimal_cdr(cdr_df, k, item[\"days\"])\n",
        "        if opt_cdr == -1:\n",
        "            missing_val_subjs.append(k)\n",
        "        item[\"cdr\"] = opt_cdr\n",
        "    subjects_with_cdr[k] = v\n",
        "\n",
        "for item in missing_val_subjs:\n",
        "    if item in subjects_with_cdr:\n",
        "        del subjects_with_cdr[item]"
      ]
    },
    {
      "cell_type": "code",
      "execution_count": null,
      "metadata": {
        "id": "f1dkYoh1N4Q5"
      },
      "outputs": [],
      "source": [
        "cdr_scale = { # ref: https://knightadrc.wustl.edu/professionals-clinicians/cdr-dementia-staging-instrument/cdr-scoring-table/\n",
        "    \"normal\": 0,\n",
        "    \"very_mild_dimentia\": 0.5,\n",
        "    \"mild_dimentia\": 1,\n",
        "    \"moderate_dimentia\": 2,\n",
        "    \"severe_dimentia\": 3,\n",
        "}\n",
        "\n",
        "def get_cdr_label(cdr_val):\n",
        "    for k, v in cdr_scale.items():\n",
        "        if v == cdr_val:\n",
        "            return k\n",
        "    return None"
      ]
    },
    {
      "cell_type": "code",
      "execution_count": null,
      "metadata": {
        "id": "fDGNtjZJOyLG"
      },
      "outputs": [],
      "source": [
        "if CLEAR_DESTINATION_DIR:\n",
        "    if os.path.exists(CONVERTED_IMG_DIR):\n",
        "      shutil.rmtree(CONVERTED_IMG_DIR)\n",
        "\n",
        "for k, _ in cdr_scale.items():\n",
        "    label_dir_ = os.path.join(CONVERTED_IMG_DIR, k)\n",
        "    if not os.path.exists(label_dir_):\n",
        "        os.makedirs(label_dir_)"
      ]
    },
    {
      "cell_type": "code",
      "execution_count": null,
      "metadata": {
        "id": "nQdObjmyCV51"
      },
      "outputs": [],
      "source": [
        "def save_nifti(file, fname = None, save_dir = None):\n",
        "    data = nib.load(file).get_fdata()\n",
        "    data = data.astype(np.float32)\n",
        "    img_data = data[:, :, data.shape[2]//2] # middle slice\n",
        "    img_data = (img_data - img_data.min()) / (img_data.max() - img_data.min())\n",
        "    plt.imshow(img_data, cmap=\"gray\")\n",
        "    plt.axis('off')\n",
        "    if fname is not None and save_dir is not None:\n",
        "        if not os.path.exists(save_dir):\n",
        "            os.makedirs(save_dir)\n",
        "        save_path = os.path.join(save_dir, fname)\n",
        "        if os.path.exists(save_path):\n",
        "            os.remove(save_path)\n",
        "        plt.savefig(save_path, bbox_inches=\"tight\", pad_inches=0)"
      ]
    },
    {
      "cell_type": "code",
      "execution_count": null,
      "metadata": {
        "colab": {
          "base_uri": "https://localhost:8080/",
          "height": 406
        },
        "id": "4RUgQ0KwPqX1",
        "outputId": "17988ed5-6c31-4b28-b5df-db4d7012e956"
      },
      "outputs": [],
      "source": [
        "for k, v in subjects_with_cdr.items():\n",
        "    for item in v:\n",
        "        cdr_ = item[\"cdr\"]\n",
        "        cdr_label = get_cdr_label(cdr_)\n",
        "\n",
        "        dir_ = item[\"dir\"]\n",
        "        nifti_files_ = item[\"nifti_files\"]\n",
        "\n",
        "        for nifti_file_ in nifti_files_:\n",
        "            for k_n, v_n in nifti_file_.items():\n",
        "                for nifti_file_path in v_n:\n",
        "                    fname_ = os.path.splitext(os.path.splitext(nifti_file_path)[0])[0]\n",
        "                    fname_ = f\"{fname_}.jpg\"\n",
        "                    save_dir_ = os.path.join(CONVERTED_IMG_DIR, cdr_label, k, dir_, k_n)\n",
        "                    nii_full_path = os.path.join(ROOT_DIR, k, dir_, k_n, NIFTI_DIR_NAME, nifti_file_path)\n",
        "                    save_nifti(nii_full_path, fname_, save_dir_)"
      ]
    },
    {
      "cell_type": "code",
      "execution_count": null,
      "metadata": {
        "colab": {
          "base_uri": "https://localhost:8080/"
        },
        "id": "GiUSx-_Wsne-",
        "outputId": "9e18e7e8-40e4-427a-9aba-d610804bf986"
      },
      "outputs": [],
      "source": [
        "num_jpg_files = glob.glob(os.path.join(CONVERTED_IMG_DIR, '**/*.jpg'), recursive=True)\n",
        "print(f\"Total {len(num_jpg_files)} images extracted.\")"
      ]
    }
  ],
  "metadata": {
    "colab": {
      "collapsed_sections": [
        "vp7Z-W8Nx5am"
      ],
      "provenance": []
    },
    "kernelspec": {
      "display_name": "Python 3",
      "name": "python3"
    },
    "language_info": {
      "name": "python"
    }
  },
  "nbformat": 4,
  "nbformat_minor": 0
}
